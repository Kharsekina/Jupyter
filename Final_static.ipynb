{
  "metadata": {
    "kernelspec": {
      "name": "python",
      "display_name": "Python (Pyodide)",
      "language": "python"
    },
    "language_info": {
      "codemirror_mode": {
        "name": "python",
        "version": 3
      },
      "file_extension": ".py",
      "mimetype": "text/x-python",
      "name": "python",
      "nbconvert_exporter": "python",
      "pygments_lexer": "ipython3",
      "version": "3.8"
    }
  },
  "nbformat_minor": 4,
  "nbformat": 4,
  "cells": [
    {
      "cell_type": "markdown",
      "source": "Провести дисперсионный анализ для определения того, есть ли различия среднего роста среди взрослых футболистов, хоккеистов и штангистов. Даны значения роста в трех группах случайно выбранных спортсменов: Футболисты: 173, 175, 180, 178, 177, 185, 183, 182. Хоккеисты: 177, 179, 180, 188, 177, 172, 171, 184, 180. Штангисты: 172, 173, 169, 177, 166, 180, 178, 177, 172, 166, 170. ",
      "metadata": {}
    },
    {
      "cell_type": "code",
      "source": "import numpy as np\nfrom scipy import stats",
      "metadata": {
        "trusted": true
      },
      "outputs": [],
      "execution_count": 1
    },
    {
      "cell_type": "code",
      "source": "fp = np.array([173, 175, 180, 178, 177, 185, 183, 182])\nhp = np.array([177, 179, 180, 188, 177, 172, 171, 184, 180])\nlf = np.array([172, 173, 169, 177, 166, 180, 178, 177, 172, 166, 170])\n\n",
      "metadata": {
        "trusted": true
      },
      "outputs": [],
      "execution_count": 2
    },
    {
      "cell_type": "markdown",
      "source": "Проверка на нормальность",
      "metadata": {}
    },
    {
      "cell_type": "code",
      "source": "stats.shapiro(fp)",
      "metadata": {
        "trusted": true
      },
      "outputs": [
        {
          "execution_count": 4,
          "output_type": "execute_result",
          "data": {
            "text/plain": "ShapiroResult(statistic=0.9775082468986511, pvalue=0.9495404362678528)"
          },
          "metadata": {}
        }
      ],
      "execution_count": 4
    },
    {
      "cell_type": "code",
      "source": "stats.shapiro(hp)",
      "metadata": {
        "trusted": true
      },
      "outputs": [
        {
          "execution_count": 5,
          "output_type": "execute_result",
          "data": {
            "text/plain": "ShapiroResult(statistic=0.9579196572303772, pvalue=0.7763139009475708)"
          },
          "metadata": {}
        }
      ],
      "execution_count": 5
    },
    {
      "cell_type": "code",
      "source": "stats.shapiro(lf)",
      "metadata": {
        "trusted": true
      },
      "outputs": [
        {
          "execution_count": 6,
          "output_type": "execute_result",
          "data": {
            "text/plain": "ShapiroResult(statistic=0.9386808276176453, pvalue=0.5051165223121643)"
          },
          "metadata": {}
        }
      ],
      "execution_count": 6
    },
    {
      "cell_type": "markdown",
      "source": "p-value > 0,05, отличий от нормальносьти нет",
      "metadata": {}
    },
    {
      "cell_type": "markdown",
      "source": "Проверка на однородность дисперсий (выборки разного обьема)",
      "metadata": {}
    },
    {
      "cell_type": "code",
      "source": "stats.bartlett(fp,hp,lf)",
      "metadata": {
        "trusted": true
      },
      "outputs": [
        {
          "execution_count": 7,
          "output_type": "execute_result",
          "data": {
            "text/plain": "BartlettResult(statistic=0.4640521043406442, pvalue=0.7929254656083131)"
          },
          "metadata": {}
        }
      ],
      "execution_count": 7
    },
    {
      "cell_type": "markdown",
      "source": "p-value > 0,05, нет различий дисперсий",
      "metadata": {}
    },
    {
      "cell_type": "markdown",
      "source": "Найдем обьемы выборок",
      "metadata": {}
    },
    {
      "cell_type": "code",
      "source": "\nn1 = fp.shape[0]\nn2 = hp.shape[0]\nn3 = lf.shape[0]",
      "metadata": {
        "trusted": true
      },
      "outputs": [],
      "execution_count": 8
    },
    {
      "cell_type": "markdown",
      "source": "Найдем средние значения роста в выборках",
      "metadata": {}
    },
    {
      "cell_type": "code",
      "source": "fp_mean = fp.mean()\nhp_mean = hp.mean()\nlf_mean = lf.mean()\n\nfp_mean, hp_mean, lf_mean",
      "metadata": {
        "trusted": true
      },
      "outputs": [
        {
          "execution_count": 10,
          "output_type": "execute_result",
          "data": {
            "text/plain": "(179.125, 178.66666666666666, 172.72727272727272)"
          },
          "metadata": {}
        }
      ],
      "execution_count": 10
    },
    {
      "cell_type": "markdown",
      "source": "Найдем средний рост среди всех спортсменов",
      "metadata": {}
    },
    {
      "cell_type": "code",
      "source": "y = np.concatenate([fp, hp, lf])\ny_mean = y.mean()\ny_mean",
      "metadata": {
        "trusted": true
      },
      "outputs": [
        {
          "execution_count": 11,
          "output_type": "execute_result",
          "data": {
            "text/plain": "176.46428571428572"
          },
          "metadata": {}
        }
      ],
      "execution_count": 11
    },
    {
      "cell_type": "markdown",
      "source": "Найдём значения S_F и S_res",
      "metadata": {}
    },
    {
      "cell_type": "code",
      "source": "S2_F = n1 * (fp_mean - y_mean) ** 2 + n2 * (hp_mean - y_mean) ** 2 + n3 * (lf_mean - y_mean) ** 2\nS2_res = ((fp - fp_mean) ** 2).sum() + ((hp - hp_mean) ** 2).sum() + ((lf - lf_mean) ** 2).sum()\nS2_F, S2_res",
      "metadata": {
        "trusted": true
      },
      "outputs": [
        {
          "execution_count": 12,
          "output_type": "execute_result",
          "data": {
            "text/plain": "(253.9074675324678, 577.0568181818182)"
          },
          "metadata": {}
        }
      ],
      "execution_count": 12
    },
    {
      "cell_type": "markdown",
      "source": "Проверим выполнение равенства S2=S2_F+S2_res",
      "metadata": {}
    },
    {
      "cell_type": "code",
      "source": "S2_F + S2_res",
      "metadata": {
        "trusted": true
      },
      "outputs": [
        {
          "execution_count": 13,
          "output_type": "execute_result",
          "data": {
            "text/plain": "830.964285714286"
          },
          "metadata": {}
        }
      ],
      "execution_count": 13
    },
    {
      "cell_type": "code",
      "source": "((y - y_mean) ** 2).sum()",
      "metadata": {
        "trusted": true
      },
      "outputs": [
        {
          "execution_count": 14,
          "output_type": "execute_result",
          "data": {
            "text/plain": "830.9642857142854"
          },
          "metadata": {}
        }
      ],
      "execution_count": 14
    },
    {
      "cell_type": "markdown",
      "source": "Равны.\nЗапишем оценки дисперсий:",
      "metadata": {}
    },
    {
      "cell_type": "code",
      "source": "k = 3\nn = n1 + n2 + n3\n\nk1 = k - 1\nk2 = n - k\n\nsigma2_F = S2_F / k1\nsigma2_res = S2_res / k2\n\nsigma2_F, sigma2_res",
      "metadata": {
        "trusted": true
      },
      "outputs": [
        {
          "execution_count": 15,
          "output_type": "execute_result",
          "data": {
            "text/plain": "(126.9537337662339, 23.08227272727273)"
          },
          "metadata": {}
        }
      ],
      "execution_count": 15
    },
    {
      "cell_type": "markdown",
      "source": "Значение статистики Т:",
      "metadata": {}
    },
    {
      "cell_type": "code",
      "source": "T = sigma2_F / sigma2_res\nT",
      "metadata": {
        "trusted": true
      },
      "outputs": [
        {
          "execution_count": 16,
          "output_type": "execute_result",
          "data": {
            "text/plain": "5.500053450812598"
          },
          "metadata": {}
        }
      ],
      "execution_count": 16
    },
    {
      "cell_type": "markdown",
      "source": "Зафиксируем уровень значимости alfa=0,05 и для него найдём критическое значение F_crit",
      "metadata": {}
    },
    {
      "cell_type": "code",
      "source": "alpha = 0.05\n\nF_crit = stats.f.ppf(1 - alpha, k1, k2)\nF_crit",
      "metadata": {
        "trusted": true
      },
      "outputs": [
        {
          "execution_count": 17,
          "output_type": "execute_result",
          "data": {
            "text/plain": "3.3851899614491687"
          },
          "metadata": {}
        }
      ],
      "execution_count": 17
    },
    {
      "cell_type": "code",
      "source": "Видим, что T>F_crit, поэтому заключаем, что отличие среднего роста футболистов, хокеистов и штангистов действительно является статистически значимым",
      "metadata": {
        "trusted": true
      },
      "outputs": [],
      "execution_count": null
    }
  ]
}